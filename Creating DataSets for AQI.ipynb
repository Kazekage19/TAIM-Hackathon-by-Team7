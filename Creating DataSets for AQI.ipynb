{
 "cells": [
  {
   "cell_type": "code",
   "execution_count": null,
   "id": "96f5e482",
   "metadata": {},
   "outputs": [],
   "source": [
    "import pandas as pd\n",
    "import numpy as np\n",
    "import seaborn as sns\n",
    "import matplotlib.pyplot as plt\n",
    "import tensorflow as tf\n",
    "import datetime\n",
    "df1=pd.read_csv('archive_1.csv')\n",
    "l=[]\n",
    "for d in df1['time']:\n",
    "    l.append(d.split('T')[0])\n",
    "df1['Date']=l\n",
    "\n",
    "df1.drop(['time'],axis=1,inplace=True)\n",
    "temp1=df1.groupby(['Date']).agg({'temperature_2m (°C)': ['min', 'max']})\n",
    "temp2=df1.drop(['temperature_2m (°C)'],axis=1).groupby(['Date']).mean()\n",
    "final_df1=temp1.join(temp2)\n",
    "final_df1.reset_index(inplace=True)\n",
    "df2=pd.read_excel('AQI_Data.xlsx',na_values='None')\n",
    "df2.fillna(value='mean',inplace=True)\n",
    "df2['Date']=final_df1['Date']\n",
    "df2.set_index('Date',inplace=True)\n",
    "final_df1.set_index('Date',inplace=True)\n",
    "final=pd.concat([df2,final_df1],axis=1)\n"
   ]
  }
 ],
 "metadata": {
  "kernelspec": {
   "display_name": "Python 3 (ipykernel)",
   "language": "python",
   "name": "python3"
  },
  "language_info": {
   "codemirror_mode": {
    "name": "ipython",
    "version": 3
   },
   "file_extension": ".py",
   "mimetype": "text/x-python",
   "name": "python",
   "nbconvert_exporter": "python",
   "pygments_lexer": "ipython3",
   "version": "3.9.12"
  }
 },
 "nbformat": 4,
 "nbformat_minor": 5
}
